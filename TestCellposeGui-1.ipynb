{
 "cells": [
  {
   "cell_type": "code",
   "execution_count": 1,
   "metadata": {},
   "outputs": [
    {
     "name": "stdout",
     "output_type": "stream",
     "text": [
      "Requirement already satisfied: cellpose[all] in /Users/mattice/miniconda3/lib/python3.11/site-packages (3.1.0)\n",
      "Requirement already satisfied: numpy<2.1,>=1.20.0 in /Users/mattice/miniconda3/lib/python3.11/site-packages (from cellpose[all]) (1.26.4)\n",
      "Requirement already satisfied: scipy in /Users/mattice/miniconda3/lib/python3.11/site-packages (from cellpose[all]) (1.13.1)\n",
      "Requirement already satisfied: natsort in /Users/mattice/miniconda3/lib/python3.11/site-packages (from cellpose[all]) (8.4.0)\n",
      "Requirement already satisfied: tifffile in /Users/mattice/miniconda3/lib/python3.11/site-packages (from cellpose[all]) (2023.4.12)\n",
      "Requirement already satisfied: tqdm in /Users/mattice/miniconda3/lib/python3.11/site-packages (from cellpose[all]) (4.65.0)\n",
      "Requirement already satisfied: numba>=0.53.0 in /Users/mattice/miniconda3/lib/python3.11/site-packages (from cellpose[all]) (0.60.0)\n",
      "Requirement already satisfied: llvmlite in /Users/mattice/miniconda3/lib/python3.11/site-packages (from cellpose[all]) (0.43.0)\n",
      "Requirement already satisfied: torch>=1.6 in /Users/mattice/miniconda3/lib/python3.11/site-packages (from cellpose[all]) (2.6.0.dev20241126)\n",
      "Requirement already satisfied: opencv-python-headless in /Users/mattice/miniconda3/lib/python3.11/site-packages (from cellpose[all]) (4.8.0.74)\n",
      "Requirement already satisfied: fastremap in /Users/mattice/miniconda3/lib/python3.11/site-packages (from cellpose[all]) (1.15.0)\n",
      "Requirement already satisfied: imagecodecs in /Users/mattice/miniconda3/lib/python3.11/site-packages (from cellpose[all]) (2023.1.23)\n",
      "Requirement already satisfied: roifile in /Users/mattice/miniconda3/lib/python3.11/site-packages (from cellpose[all]) (2024.9.15)\n",
      "Requirement already satisfied: pyqtgraph>=0.11.0rc0 in /Users/mattice/miniconda3/lib/python3.11/site-packages (from cellpose[all]) (0.13.7)\n",
      "Requirement already satisfied: pyqt6 in /Users/mattice/miniconda3/lib/python3.11/site-packages (from cellpose[all]) (6.8.0)\n",
      "Requirement already satisfied: pyqt6.sip in /Users/mattice/miniconda3/lib/python3.11/site-packages (from cellpose[all]) (13.9.1)\n",
      "Requirement already satisfied: qtpy in /Users/mattice/miniconda3/lib/python3.11/site-packages (from cellpose[all]) (2.4.2)\n",
      "Requirement already satisfied: superqt in /Users/mattice/miniconda3/lib/python3.11/site-packages (from cellpose[all]) (0.7.0)\n",
      "Requirement already satisfied: dask in /Users/mattice/miniconda3/lib/python3.11/site-packages (from cellpose[all]) (2024.12.1)\n",
      "Requirement already satisfied: dask-image in /Users/mattice/miniconda3/lib/python3.11/site-packages (from cellpose[all]) (2024.5.3)\n",
      "Requirement already satisfied: scikit-learn in /Users/mattice/miniconda3/lib/python3.11/site-packages (from cellpose[all]) (1.5.0)\n",
      "Requirement already satisfied: nd2 in /Users/mattice/miniconda3/lib/python3.11/site-packages (from cellpose[all]) (0.10.1)\n",
      "Requirement already satisfied: pynrrd in /Users/mattice/miniconda3/lib/python3.11/site-packages (from cellpose[all]) (1.1.1)\n",
      "Requirement already satisfied: bioimageio.core in /Users/mattice/miniconda3/lib/python3.11/site-packages (from cellpose[all]) (0.7.0)\n",
      "Requirement already satisfied: filelock in /Users/mattice/miniconda3/lib/python3.11/site-packages (from torch>=1.6->cellpose[all]) (3.13.1)\n",
      "Requirement already satisfied: typing-extensions>=4.10.0 in /Users/mattice/miniconda3/lib/python3.11/site-packages (from torch>=1.6->cellpose[all]) (4.12.2)\n",
      "Requirement already satisfied: networkx in /Users/mattice/miniconda3/lib/python3.11/site-packages (from torch>=1.6->cellpose[all]) (3.1)\n",
      "Requirement already satisfied: jinja2 in /Users/mattice/miniconda3/lib/python3.11/site-packages (from torch>=1.6->cellpose[all]) (3.1.3)\n",
      "Requirement already satisfied: fsspec in /Users/mattice/miniconda3/lib/python3.11/site-packages (from torch>=1.6->cellpose[all]) (2024.10.0)\n",
      "Requirement already satisfied: sympy==1.13.1 in /Users/mattice/miniconda3/lib/python3.11/site-packages (from torch>=1.6->cellpose[all]) (1.13.1)\n",
      "Requirement already satisfied: mpmath<1.4,>=1.1.0 in /Users/mattice/miniconda3/lib/python3.11/site-packages (from sympy==1.13.1->torch>=1.6->cellpose[all]) (1.3.0)\n",
      "Requirement already satisfied: bioimageio.spec==0.5.3.5 in /Users/mattice/miniconda3/lib/python3.11/site-packages (from bioimageio.core->cellpose[all]) (0.5.3.5)\n",
      "Requirement already satisfied: h5py in /Users/mattice/miniconda3/lib/python3.11/site-packages (from bioimageio.core->cellpose[all]) (3.12.1)\n",
      "Requirement already satisfied: imageio>=2.10 in /Users/mattice/miniconda3/lib/python3.11/site-packages (from bioimageio.core->cellpose[all]) (2.33.1)\n",
      "Requirement already satisfied: loguru in /Users/mattice/miniconda3/lib/python3.11/site-packages (from bioimageio.core->cellpose[all]) (0.7.3)\n",
      "Requirement already satisfied: pydantic-settings>=2.5 in /Users/mattice/miniconda3/lib/python3.11/site-packages (from bioimageio.core->cellpose[all]) (2.7.0)\n",
      "Requirement already satisfied: pydantic in /Users/mattice/miniconda3/lib/python3.11/site-packages (from bioimageio.core->cellpose[all]) (2.10.3)\n",
      "Requirement already satisfied: requests in /Users/mattice/miniconda3/lib/python3.11/site-packages (from bioimageio.core->cellpose[all]) (2.31.0)\n",
      "Requirement already satisfied: ruyaml in /Users/mattice/miniconda3/lib/python3.11/site-packages (from bioimageio.core->cellpose[all]) (0.91.0)\n",
      "Requirement already satisfied: xarray in /Users/mattice/miniconda3/lib/python3.11/site-packages (from bioimageio.core->cellpose[all]) (2024.11.0)\n",
      "Requirement already satisfied: annotated-types<1,>=0.5.0 in /Users/mattice/miniconda3/lib/python3.11/site-packages (from bioimageio.spec==0.5.3.5->bioimageio.core->cellpose[all]) (0.7.0)\n",
      "Requirement already satisfied: email-validator in /Users/mattice/miniconda3/lib/python3.11/site-packages (from bioimageio.spec==0.5.3.5->bioimageio.core->cellpose[all]) (2.2.0)\n",
      "Requirement already satisfied: packaging>=17.0 in /Users/mattice/miniconda3/lib/python3.11/site-packages (from bioimageio.spec==0.5.3.5->bioimageio.core->cellpose[all]) (24.2)\n",
      "Requirement already satisfied: pooch<2,>=1.5 in /Users/mattice/miniconda3/lib/python3.11/site-packages (from bioimageio.spec==0.5.3.5->bioimageio.core->cellpose[all]) (1.8.1)\n",
      "Requirement already satisfied: python-dateutil in /Users/mattice/miniconda3/lib/python3.11/site-packages (from bioimageio.spec==0.5.3.5->bioimageio.core->cellpose[all]) (2.9.0)\n",
      "Requirement already satisfied: rich in /Users/mattice/miniconda3/lib/python3.11/site-packages (from bioimageio.spec==0.5.3.5->bioimageio.core->cellpose[all]) (13.9.4)\n",
      "Requirement already satisfied: zipp in /Users/mattice/miniconda3/lib/python3.11/site-packages (from bioimageio.spec==0.5.3.5->bioimageio.core->cellpose[all]) (3.17.0)\n",
      "Requirement already satisfied: click>=8.1 in /Users/mattice/miniconda3/lib/python3.11/site-packages (from dask->cellpose[all]) (8.1.7)\n",
      "Requirement already satisfied: cloudpickle>=3.0.0 in /Users/mattice/miniconda3/lib/python3.11/site-packages (from dask->cellpose[all]) (3.1.0)\n",
      "Requirement already satisfied: partd>=1.4.0 in /Users/mattice/miniconda3/lib/python3.11/site-packages (from dask->cellpose[all]) (1.4.2)\n",
      "Requirement already satisfied: pyyaml>=5.3.1 in /Users/mattice/miniconda3/lib/python3.11/site-packages (from dask->cellpose[all]) (6.0.1)\n",
      "Requirement already satisfied: toolz>=0.10.0 in /Users/mattice/miniconda3/lib/python3.11/site-packages (from dask->cellpose[all]) (1.0.0)\n",
      "Requirement already satisfied: importlib_metadata>=4.13.0 in /Users/mattice/miniconda3/lib/python3.11/site-packages (from dask->cellpose[all]) (7.0.1)\n",
      "Requirement already satisfied: pandas>=2.0.0 in /Users/mattice/miniconda3/lib/python3.11/site-packages (from dask-image->cellpose[all]) (2.2.2)\n",
      "Requirement already satisfied: pims>=0.4.1 in /Users/mattice/miniconda3/lib/python3.11/site-packages (from dask-image->cellpose[all]) (0.7)\n",
      "Requirement already satisfied: ome-types>=0.5.1 in /Users/mattice/miniconda3/lib/python3.11/site-packages (from nd2->cellpose[all]) (0.5.3)\n",
      "Requirement already satisfied: resource-backed-dask-array in /Users/mattice/miniconda3/lib/python3.11/site-packages (from nd2->cellpose[all]) (0.1.0)\n",
      "Requirement already satisfied: PyQt6-Qt6<6.9.0,>=6.8.0 in /Users/mattice/miniconda3/lib/python3.11/site-packages (from pyqt6->cellpose[all]) (6.8.1)\n",
      "Requirement already satisfied: joblib>=1.2.0 in /Users/mattice/miniconda3/lib/python3.11/site-packages (from scikit-learn->cellpose[all]) (1.4.2)\n",
      "Requirement already satisfied: threadpoolctl>=3.1.0 in /Users/mattice/miniconda3/lib/python3.11/site-packages (from scikit-learn->cellpose[all]) (3.5.0)\n",
      "Requirement already satisfied: pygments>=2.4.0 in /Users/mattice/miniconda3/lib/python3.11/site-packages (from superqt->cellpose[all]) (2.17.2)\n",
      "Requirement already satisfied: dask-expr<1.2,>=1.1 in /Users/mattice/miniconda3/lib/python3.11/site-packages (from dask[array,dataframe]>=2024.4.1->dask-image->cellpose[all]) (1.1.21)\n",
      "Requirement already satisfied: pillow>=8.3.2 in /Users/mattice/miniconda3/lib/python3.11/site-packages (from imageio>=2.10->bioimageio.core->cellpose[all]) (10.2.0)\n",
      "Requirement already satisfied: pydantic-compat>=0.1.0 in /Users/mattice/miniconda3/lib/python3.11/site-packages (from ome-types>=0.5.1->nd2->cellpose[all]) (0.1.2)\n",
      "Requirement already satisfied: xsdata<24.4,>=23.6 in /Users/mattice/miniconda3/lib/python3.11/site-packages (from ome-types>=0.5.1->nd2->cellpose[all]) (24.3.1)\n",
      "Requirement already satisfied: pytz>=2020.1 in /Users/mattice/miniconda3/lib/python3.11/site-packages (from pandas>=2.0.0->dask-image->cellpose[all]) (2023.3.post1)\n",
      "Requirement already satisfied: tzdata>=2022.7 in /Users/mattice/miniconda3/lib/python3.11/site-packages (from pandas>=2.0.0->dask-image->cellpose[all]) (2023.3)\n",
      "Requirement already satisfied: locket in /Users/mattice/miniconda3/lib/python3.11/site-packages (from partd>=1.4.0->dask->cellpose[all]) (1.0.0)\n",
      "Requirement already satisfied: slicerator>=0.9.8 in /Users/mattice/miniconda3/lib/python3.11/site-packages (from pims>=0.4.1->dask-image->cellpose[all]) (1.1.0)\n",
      "Requirement already satisfied: pydantic-core==2.27.1 in /Users/mattice/miniconda3/lib/python3.11/site-packages (from pydantic->bioimageio.core->cellpose[all]) (2.27.1)\n",
      "Requirement already satisfied: python-dotenv>=0.21.0 in /Users/mattice/miniconda3/lib/python3.11/site-packages (from pydantic-settings>=2.5->bioimageio.core->cellpose[all]) (1.0.1)\n",
      "Requirement already satisfied: MarkupSafe>=2.0 in /Users/mattice/miniconda3/lib/python3.11/site-packages (from jinja2->torch>=1.6->cellpose[all]) (2.1.3)\n",
      "Requirement already satisfied: charset-normalizer<4,>=2 in /Users/mattice/miniconda3/lib/python3.11/site-packages (from requests->bioimageio.core->cellpose[all]) (2.0.4)\n",
      "Requirement already satisfied: idna<4,>=2.5 in /Users/mattice/miniconda3/lib/python3.11/site-packages (from requests->bioimageio.core->cellpose[all]) (2.10)\n",
      "Requirement already satisfied: urllib3<3,>=1.21.1 in /Users/mattice/miniconda3/lib/python3.11/site-packages (from requests->bioimageio.core->cellpose[all]) (1.26.18)\n",
      "Requirement already satisfied: certifi>=2017.4.17 in /Users/mattice/miniconda3/lib/python3.11/site-packages (from requests->bioimageio.core->cellpose[all]) (2024.8.30)\n",
      "Requirement already satisfied: distro>=1.3.0 in /Users/mattice/miniconda3/lib/python3.11/site-packages (from ruyaml->bioimageio.core->cellpose[all]) (1.8.0)\n",
      "Requirement already satisfied: setuptools>=39.0 in /Users/mattice/miniconda3/lib/python3.11/site-packages (from ruyaml->bioimageio.core->cellpose[all]) (68.2.2)\n",
      "Requirement already satisfied: pyarrow>=14.0.1 in /Users/mattice/miniconda3/lib/python3.11/site-packages (from dask-expr<1.2,>=1.1->dask[array,dataframe]>=2024.4.1->dask-image->cellpose[all]) (18.1.0)\n",
      "Requirement already satisfied: platformdirs>=2.5.0 in /Users/mattice/miniconda3/lib/python3.11/site-packages (from pooch<2,>=1.5->bioimageio.spec==0.5.3.5->bioimageio.core->cellpose[all]) (3.10.0)\n",
      "Requirement already satisfied: six>=1.5 in /Users/mattice/miniconda3/lib/python3.11/site-packages (from python-dateutil->bioimageio.spec==0.5.3.5->bioimageio.core->cellpose[all]) (1.16.0)\n",
      "Requirement already satisfied: dnspython>=2.0.0 in /Users/mattice/miniconda3/lib/python3.11/site-packages (from email-validator->bioimageio.spec==0.5.3.5->bioimageio.core->cellpose[all]) (2.7.0)\n",
      "Requirement already satisfied: markdown-it-py>=2.2.0 in /Users/mattice/miniconda3/lib/python3.11/site-packages (from rich->bioimageio.spec==0.5.3.5->bioimageio.core->cellpose[all]) (3.0.0)\n",
      "Requirement already satisfied: mdurl~=0.1 in /Users/mattice/miniconda3/lib/python3.11/site-packages (from markdown-it-py>=2.2.0->rich->bioimageio.spec==0.5.3.5->bioimageio.core->cellpose[all]) (0.1.2)\n"
     ]
    }
   ],
   "source": [
    "#Install Cellpose and Dependencies\n",
    "!pip install \"cellpose[all]\"\n"
   ]
  },
  {
   "cell_type": "code",
   "execution_count": 2,
   "metadata": {},
   "outputs": [
    {
     "name": "stderr",
     "output_type": "stream",
     "text": [
      "objc[14410]: Class QT_ROOT_LEVEL_POOL__THESE_OBJECTS_WILL_BE_RELEASED_WHEN_QAPP_GOES_OUT_OF_SCOPE is implemented in both /Users/mattice/miniconda3/lib/libQt5Core.5.15.2.dylib (0x16d7f93b8) and /Users/mattice/miniconda3/lib/python3.11/site-packages/PyQt6/Qt6/lib/QtCore.framework/Versions/A/QtCore (0x340a18620). One of the two will be used. Which one is undefined.\n",
      "objc[14410]: Class KeyValueObserver is implemented in both /Users/mattice/miniconda3/lib/libQt5Core.5.15.2.dylib (0x16d7f93e0) and /Users/mattice/miniconda3/lib/python3.11/site-packages/PyQt6/Qt6/lib/QtCore.framework/Versions/A/QtCore (0x340a18648). One of the two will be used. Which one is undefined.\n",
      "objc[14410]: Class RunLoopModeTracker is implemented in both /Users/mattice/miniconda3/lib/libQt5Core.5.15.2.dylib (0x16d7f9430) and /Users/mattice/miniconda3/lib/python3.11/site-packages/PyQt6/Qt6/lib/QtCore.framework/Versions/A/QtCore (0x340a18698). One of the two will be used. Which one is undefined.\n"
     ]
    }
   ],
   "source": [
    "#Import Required Libraries\n",
    "import os\n",
    "from cellpose import models, io\n",
    "from cellpose.gui import gui  # For human-in-the-loop annotation\n",
    "from IPython.display import display, Image\n",
    "import matplotlib.pyplot as plt"
   ]
  },
  {
   "cell_type": "code",
   "execution_count": 3,
   "metadata": {},
   "outputs": [
    {
     "name": "stdout",
     "output_type": "stream",
     "text": [
      "Step 3: Setting up directories...\n",
      "Directories ready!\n"
     ]
    }
   ],
   "source": [
    "# Step 3: Set Up Your Working Directories\n",
    "print(\"Step 3: Setting up directories...\")\n",
    "TRAIN_DIR = \"./cellpose_training/train\"   # Path to training images\n",
    "TEST_DIR = \"./cellpose_training/test\"     # Path to test images\n",
    "OUTPUT_DIR = \"./cellpose_training/output\" # Output path for models & results\n",
    "\n",
    "# Create directories if they don't exist\n",
    "os.makedirs(TRAIN_DIR, exist_ok=True)\n",
    "os.makedirs(TEST_DIR, exist_ok=True)\n",
    "os.makedirs(OUTPUT_DIR, exist_ok=True)\n",
    "print(\"Directories ready!\")\n"
   ]
  },
  {
   "cell_type": "code",
   "execution_count": 4,
   "metadata": {},
   "outputs": [
    {
     "name": "stdout",
     "output_type": "stream",
     "text": [
      "Step 4: Preparing Dataset...\n",
      "Copy your training images to: ./cellpose_training/train\n",
      "Copy your test images to: ./cellpose_training/test\n",
      "Human-in-the-loop annotation will start soon!\n"
     ]
    }
   ],
   "source": [
    "# Step 4: Prepare Your Dataset\n",
    "print(\"Step 4: Preparing Dataset...\")\n",
    "print(\"Copy your training images to:\", TRAIN_DIR)\n",
    "print(\"Copy your test images to:\", TEST_DIR)\n",
    "print(\"Human-in-the-loop annotation will start soon!\")\n"
   ]
  },
  {
   "cell_type": "code",
   "execution_count": 1,
   "metadata": {},
   "outputs": [
    {
     "name": "stdout",
     "output_type": "stream",
     "text": [
      "Step 5: Launching Cellpose GUI for manual annotations...\n",
      "Instructions: Annotate images in the training folder and save masks.\n",
      "2024-12-19 13:43:04,016 [INFO] WRITING LOG OUTPUT TO /Users/mattice/.cellpose/run.log\n",
      "2024-12-19 13:43:04,016 [INFO] \n",
      "cellpose version: \t3.1.0 \n",
      "platform:       \tdarwin \n",
      "python version: \t3.12.2 \n",
      "torch version:  \t2.6.0.dev20241126\n",
      "2024-12-19 13:43:04,571 [INFO] ** TORCH MPS version installed and working. **\n",
      "\u001b[0m"
     ]
    }
   ],
   "source": [
    "print(\"Step 5: Launching Cellpose GUI for manual annotations...\")\n",
    "print(\"Instructions: Annotate images in the training folder and save masks.\")\n",
    "\n",
    "# Run the Cellpose GUI\n",
    "!python3 -m cellpose"
   ]
  },
  {
   "cell_type": "markdown",
   "metadata": {},
   "source": [
    "Here we can train the model on the annotated images through the GUI"
   ]
  },
  {
   "cell_type": "code",
   "execution_count": null,
   "metadata": {},
   "outputs": [],
   "source": [
    "# Step 6: Train a New Cellpose Model on CPU\n",
    "print(\"Step 6: Training the model... (This will take time)\")\n",
    "\n",
    "# Build your model as you want\n",
    "model = models.CellposeModel(gpu=False, pretrained_model='cyto')  # Force CPU use\n",
    "train_images = io.imread(os.path.join(TRAIN_DIR, \"*.tif\"))        # Load images (you can change the way of proceeding extensions)\n",
    "train_masks = io.imread(os.path.join(TRAIN_DIR, \"*.npy\"))         # Load masks (you can change the way of proceeding extensions)\n",
    "model_path = os.path.join(OUTPUT_DIR, \"cellpose_custom_model\")\n",
    "print(\"Training model...\")\n",
    "\n",
    "# Modify your parameter here\n",
    "model.train(train_images, train_masks, channels=[0,0], save_path=model_path, \n",
    "            learning_rate=0.1, n_epochs=7, weight_decay=1e-5)\n",
    "print(f\"Model training complete. Model saved at: {model_path}\")"
   ]
  },
  {
   "cell_type": "code",
   "execution_count": null,
   "metadata": {},
   "outputs": [],
   "source": [
    "# Step 7: Run the Model on Test Data\n",
    "print(\"Step 7: Running predictions on test data...\")\n",
    "test_images = io.imread(os.path.join(TEST_DIR, \"*.tif\"))\n",
    "\n",
    "# Run predictions using the trained model\n",
    "predictions = model.eval(test_images, channels=[0,0])\n",
    "io.save_masks(predictions, OUTPUT_DIR, test_images)\n",
    "print(\"Predictions complete! Masks saved to:\", OUTPUT_DIR)\n"
   ]
  },
  {
   "cell_type": "code",
   "execution_count": null,
   "metadata": {},
   "outputs": [],
   "source": [
    "# Step 8: Visualize Test Results\n",
    "print(\"Step 8: Visualizing predictions...\")\n",
    "\n",
    "for i, image in enumerate(test_images):\n",
    "    fig, ax = plt.subplots(1, 2, figsize=(10, 5))\n",
    "    ax[0].imshow(image, cmap='gray')\n",
    "    ax[0].set_title(\"Original Image\")\n",
    "    \n",
    "    ax[1].imshow(predictions['masks'][i], cmap='nipy_spectral')\n",
    "    ax[1].set_title(\"Predicted Mask\")\n",
    "    \n",
    "    plt.show()\n",
    "\n",
    "print(\"Training and evaluation complete!\")\n",
    "print(\"Manually check the outputs in:\", OUTPUT_DIR)"
   ]
  }
 ],
 "metadata": {
  "kernelspec": {
   "display_name": "base",
   "language": "python",
   "name": "python3"
  },
  "language_info": {
   "codemirror_mode": {
    "name": "ipython",
    "version": 3
   },
   "file_extension": ".py",
   "mimetype": "text/x-python",
   "name": "python",
   "nbconvert_exporter": "python",
   "pygments_lexer": "ipython3",
   "version": "3.12.2"
  }
 },
 "nbformat": 4,
 "nbformat_minor": 2
}
